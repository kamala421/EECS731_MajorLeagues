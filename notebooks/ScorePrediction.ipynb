{
 "cells": [
  {
   "cell_type": "markdown",
   "metadata": {},
   "source": [
    "## Major League\n",
    "\n",
    "NFL, MLB, NBA and Soccer scores\n",
    "1. Set up a data science project structure in a new git repository in your GitHub account\n",
    "2. Pick one of the game data sets depending your sports preference https://github.com/fivethirtyeight/nfl-elo-game https://github.com/fivethirtyeight/data/tree/master/mlb-elo https://github.com/fivethirtyeight/data/tree/master/nba-carmelo https://github.com/fivethirtyeight/data/tree/master/soccer-spi\n",
    "3. Load the data set into panda data frames\n",
    "4. Formulate one or two ideas on how feature engineering would help the data set to\n",
    "establish additional value using exploratory data analysis\n",
    "5. Build one or more regression models to determine the scores for each team using the other columns as features\n",
    "6. Document your process and results\n",
    "7. Commit your notebook, source code, visualizations and other supporting files to the git repository in GitHub"
   ]
  },
  {
   "cell_type": "code",
   "execution_count": 1,
   "metadata": {},
   "outputs": [],
   "source": [
    "import pandas as pd\n",
    "import numpy as np\n",
    "import matplotlib.pyplot as plt\n",
    "\n",
    "from sklearn.model_selection import train_test_split\n",
    "from sklearn.preprocessing import MinMaxScaler\n",
    "\n",
    "from sklearn.linear_model import LinearRegression\n",
    "\n",
    "from sklearn.metrics import r2_score\n",
    "from sklearn.tree import DecisionTreeRegressor\n",
    "from sklearn.ensemble import RandomForestRegressor\n",
    "from sklearn.model_selection import GridSearchCV\n",
    "from joblib import dump, load"
   ]
  },
  {
   "cell_type": "code",
   "execution_count": 2,
   "metadata": {},
   "outputs": [
    {
     "data": {
      "text/html": [
       "<div>\n",
       "<style scoped>\n",
       "    .dataframe tbody tr th:only-of-type {\n",
       "        vertical-align: middle;\n",
       "    }\n",
       "\n",
       "    .dataframe tbody tr th {\n",
       "        vertical-align: top;\n",
       "    }\n",
       "\n",
       "    .dataframe thead th {\n",
       "        text-align: right;\n",
       "    }\n",
       "</style>\n",
       "<table border=\"1\" class=\"dataframe\">\n",
       "  <thead>\n",
       "    <tr style=\"text-align: right;\">\n",
       "      <th></th>\n",
       "      <th>date</th>\n",
       "      <th>league_id</th>\n",
       "      <th>league</th>\n",
       "      <th>team1</th>\n",
       "      <th>team2</th>\n",
       "      <th>spi1</th>\n",
       "      <th>spi2</th>\n",
       "      <th>prob1</th>\n",
       "      <th>prob2</th>\n",
       "      <th>probtie</th>\n",
       "      <th>...</th>\n",
       "      <th>importance1</th>\n",
       "      <th>importance2</th>\n",
       "      <th>score1</th>\n",
       "      <th>score2</th>\n",
       "      <th>xg1</th>\n",
       "      <th>xg2</th>\n",
       "      <th>nsxg1</th>\n",
       "      <th>nsxg2</th>\n",
       "      <th>adj_score1</th>\n",
       "      <th>adj_score2</th>\n",
       "    </tr>\n",
       "  </thead>\n",
       "  <tbody>\n",
       "    <tr>\n",
       "      <th>0</th>\n",
       "      <td>2016-08-12</td>\n",
       "      <td>1843</td>\n",
       "      <td>French Ligue 1</td>\n",
       "      <td>Bastia</td>\n",
       "      <td>Paris Saint-Germain</td>\n",
       "      <td>51.16</td>\n",
       "      <td>85.68</td>\n",
       "      <td>0.0463</td>\n",
       "      <td>0.8380</td>\n",
       "      <td>0.1157</td>\n",
       "      <td>...</td>\n",
       "      <td>32.4</td>\n",
       "      <td>67.7</td>\n",
       "      <td>0.0</td>\n",
       "      <td>1.0</td>\n",
       "      <td>0.97</td>\n",
       "      <td>0.63</td>\n",
       "      <td>0.43</td>\n",
       "      <td>0.45</td>\n",
       "      <td>0.00</td>\n",
       "      <td>1.05</td>\n",
       "    </tr>\n",
       "    <tr>\n",
       "      <th>1</th>\n",
       "      <td>2016-08-12</td>\n",
       "      <td>1843</td>\n",
       "      <td>French Ligue 1</td>\n",
       "      <td>AS Monaco</td>\n",
       "      <td>Guingamp</td>\n",
       "      <td>68.85</td>\n",
       "      <td>56.48</td>\n",
       "      <td>0.5714</td>\n",
       "      <td>0.1669</td>\n",
       "      <td>0.2617</td>\n",
       "      <td>...</td>\n",
       "      <td>53.7</td>\n",
       "      <td>22.9</td>\n",
       "      <td>2.0</td>\n",
       "      <td>2.0</td>\n",
       "      <td>2.45</td>\n",
       "      <td>0.77</td>\n",
       "      <td>1.75</td>\n",
       "      <td>0.42</td>\n",
       "      <td>2.10</td>\n",
       "      <td>2.10</td>\n",
       "    </tr>\n",
       "    <tr>\n",
       "      <th>2</th>\n",
       "      <td>2016-08-13</td>\n",
       "      <td>2411</td>\n",
       "      <td>Barclays Premier League</td>\n",
       "      <td>Hull City</td>\n",
       "      <td>Leicester City</td>\n",
       "      <td>53.57</td>\n",
       "      <td>66.81</td>\n",
       "      <td>0.3459</td>\n",
       "      <td>0.3621</td>\n",
       "      <td>0.2921</td>\n",
       "      <td>...</td>\n",
       "      <td>38.1</td>\n",
       "      <td>22.2</td>\n",
       "      <td>2.0</td>\n",
       "      <td>1.0</td>\n",
       "      <td>0.85</td>\n",
       "      <td>2.77</td>\n",
       "      <td>0.17</td>\n",
       "      <td>1.25</td>\n",
       "      <td>2.10</td>\n",
       "      <td>1.05</td>\n",
       "    </tr>\n",
       "    <tr>\n",
       "      <th>3</th>\n",
       "      <td>2016-08-13</td>\n",
       "      <td>2411</td>\n",
       "      <td>Barclays Premier League</td>\n",
       "      <td>Crystal Palace</td>\n",
       "      <td>West Bromwich Albion</td>\n",
       "      <td>55.19</td>\n",
       "      <td>58.66</td>\n",
       "      <td>0.4214</td>\n",
       "      <td>0.2939</td>\n",
       "      <td>0.2847</td>\n",
       "      <td>...</td>\n",
       "      <td>43.6</td>\n",
       "      <td>34.6</td>\n",
       "      <td>0.0</td>\n",
       "      <td>1.0</td>\n",
       "      <td>1.11</td>\n",
       "      <td>0.68</td>\n",
       "      <td>0.84</td>\n",
       "      <td>1.60</td>\n",
       "      <td>0.00</td>\n",
       "      <td>1.05</td>\n",
       "    </tr>\n",
       "    <tr>\n",
       "      <th>4</th>\n",
       "      <td>2016-08-13</td>\n",
       "      <td>2411</td>\n",
       "      <td>Barclays Premier League</td>\n",
       "      <td>Everton</td>\n",
       "      <td>Tottenham Hotspur</td>\n",
       "      <td>68.02</td>\n",
       "      <td>73.25</td>\n",
       "      <td>0.3910</td>\n",
       "      <td>0.3401</td>\n",
       "      <td>0.2689</td>\n",
       "      <td>...</td>\n",
       "      <td>31.9</td>\n",
       "      <td>48.0</td>\n",
       "      <td>1.0</td>\n",
       "      <td>1.0</td>\n",
       "      <td>0.73</td>\n",
       "      <td>1.11</td>\n",
       "      <td>0.88</td>\n",
       "      <td>1.81</td>\n",
       "      <td>1.05</td>\n",
       "      <td>1.05</td>\n",
       "    </tr>\n",
       "    <tr>\n",
       "      <th>5</th>\n",
       "      <td>2016-08-13</td>\n",
       "      <td>2411</td>\n",
       "      <td>Barclays Premier League</td>\n",
       "      <td>Middlesbrough</td>\n",
       "      <td>Stoke City</td>\n",
       "      <td>56.32</td>\n",
       "      <td>60.35</td>\n",
       "      <td>0.4380</td>\n",
       "      <td>0.2692</td>\n",
       "      <td>0.2927</td>\n",
       "      <td>...</td>\n",
       "      <td>33.9</td>\n",
       "      <td>32.5</td>\n",
       "      <td>1.0</td>\n",
       "      <td>1.0</td>\n",
       "      <td>1.40</td>\n",
       "      <td>0.55</td>\n",
       "      <td>1.13</td>\n",
       "      <td>1.06</td>\n",
       "      <td>1.05</td>\n",
       "      <td>1.05</td>\n",
       "    </tr>\n",
       "    <tr>\n",
       "      <th>6</th>\n",
       "      <td>2016-08-13</td>\n",
       "      <td>2411</td>\n",
       "      <td>Barclays Premier League</td>\n",
       "      <td>Burnley</td>\n",
       "      <td>Swansea City</td>\n",
       "      <td>58.98</td>\n",
       "      <td>59.74</td>\n",
       "      <td>0.4482</td>\n",
       "      <td>0.2663</td>\n",
       "      <td>0.2854</td>\n",
       "      <td>...</td>\n",
       "      <td>36.5</td>\n",
       "      <td>29.1</td>\n",
       "      <td>0.0</td>\n",
       "      <td>1.0</td>\n",
       "      <td>1.24</td>\n",
       "      <td>1.84</td>\n",
       "      <td>1.71</td>\n",
       "      <td>1.56</td>\n",
       "      <td>0.00</td>\n",
       "      <td>1.05</td>\n",
       "    </tr>\n",
       "    <tr>\n",
       "      <th>7</th>\n",
       "      <td>2016-08-13</td>\n",
       "      <td>2411</td>\n",
       "      <td>Barclays Premier League</td>\n",
       "      <td>Southampton</td>\n",
       "      <td>Watford</td>\n",
       "      <td>69.49</td>\n",
       "      <td>59.33</td>\n",
       "      <td>0.5759</td>\n",
       "      <td>0.1874</td>\n",
       "      <td>0.2367</td>\n",
       "      <td>...</td>\n",
       "      <td>34.1</td>\n",
       "      <td>30.7</td>\n",
       "      <td>1.0</td>\n",
       "      <td>1.0</td>\n",
       "      <td>1.05</td>\n",
       "      <td>0.22</td>\n",
       "      <td>1.52</td>\n",
       "      <td>0.41</td>\n",
       "      <td>1.05</td>\n",
       "      <td>1.05</td>\n",
       "    </tr>\n",
       "    <tr>\n",
       "      <th>8</th>\n",
       "      <td>2016-08-13</td>\n",
       "      <td>1843</td>\n",
       "      <td>French Ligue 1</td>\n",
       "      <td>Bordeaux</td>\n",
       "      <td>St Etienne</td>\n",
       "      <td>62.01</td>\n",
       "      <td>64.92</td>\n",
       "      <td>0.4232</td>\n",
       "      <td>0.2764</td>\n",
       "      <td>0.3004</td>\n",
       "      <td>...</td>\n",
       "      <td>37.9</td>\n",
       "      <td>44.2</td>\n",
       "      <td>3.0</td>\n",
       "      <td>2.0</td>\n",
       "      <td>1.03</td>\n",
       "      <td>1.84</td>\n",
       "      <td>1.10</td>\n",
       "      <td>2.26</td>\n",
       "      <td>3.12</td>\n",
       "      <td>2.10</td>\n",
       "    </tr>\n",
       "    <tr>\n",
       "      <th>9</th>\n",
       "      <td>2016-08-13</td>\n",
       "      <td>2411</td>\n",
       "      <td>Barclays Premier League</td>\n",
       "      <td>Manchester City</td>\n",
       "      <td>Sunderland</td>\n",
       "      <td>86.42</td>\n",
       "      <td>53.64</td>\n",
       "      <td>0.8152</td>\n",
       "      <td>0.0525</td>\n",
       "      <td>0.1323</td>\n",
       "      <td>...</td>\n",
       "      <td>73.0</td>\n",
       "      <td>27.0</td>\n",
       "      <td>2.0</td>\n",
       "      <td>1.0</td>\n",
       "      <td>2.14</td>\n",
       "      <td>1.25</td>\n",
       "      <td>1.81</td>\n",
       "      <td>0.92</td>\n",
       "      <td>2.10</td>\n",
       "      <td>1.05</td>\n",
       "    </tr>\n",
       "  </tbody>\n",
       "</table>\n",
       "<p>10 rows × 22 columns</p>\n",
       "</div>"
      ],
      "text/plain": [
       "         date  league_id                   league            team1  \\\n",
       "0  2016-08-12       1843           French Ligue 1           Bastia   \n",
       "1  2016-08-12       1843           French Ligue 1        AS Monaco   \n",
       "2  2016-08-13       2411  Barclays Premier League        Hull City   \n",
       "3  2016-08-13       2411  Barclays Premier League   Crystal Palace   \n",
       "4  2016-08-13       2411  Barclays Premier League          Everton   \n",
       "5  2016-08-13       2411  Barclays Premier League    Middlesbrough   \n",
       "6  2016-08-13       2411  Barclays Premier League          Burnley   \n",
       "7  2016-08-13       2411  Barclays Premier League      Southampton   \n",
       "8  2016-08-13       1843           French Ligue 1         Bordeaux   \n",
       "9  2016-08-13       2411  Barclays Premier League  Manchester City   \n",
       "\n",
       "                  team2   spi1   spi2   prob1   prob2  probtie     ...      \\\n",
       "0   Paris Saint-Germain  51.16  85.68  0.0463  0.8380   0.1157     ...       \n",
       "1              Guingamp  68.85  56.48  0.5714  0.1669   0.2617     ...       \n",
       "2        Leicester City  53.57  66.81  0.3459  0.3621   0.2921     ...       \n",
       "3  West Bromwich Albion  55.19  58.66  0.4214  0.2939   0.2847     ...       \n",
       "4     Tottenham Hotspur  68.02  73.25  0.3910  0.3401   0.2689     ...       \n",
       "5            Stoke City  56.32  60.35  0.4380  0.2692   0.2927     ...       \n",
       "6          Swansea City  58.98  59.74  0.4482  0.2663   0.2854     ...       \n",
       "7               Watford  69.49  59.33  0.5759  0.1874   0.2367     ...       \n",
       "8            St Etienne  62.01  64.92  0.4232  0.2764   0.3004     ...       \n",
       "9            Sunderland  86.42  53.64  0.8152  0.0525   0.1323     ...       \n",
       "\n",
       "   importance1  importance2  score1  score2   xg1   xg2  nsxg1  nsxg2  \\\n",
       "0         32.4         67.7     0.0     1.0  0.97  0.63   0.43   0.45   \n",
       "1         53.7         22.9     2.0     2.0  2.45  0.77   1.75   0.42   \n",
       "2         38.1         22.2     2.0     1.0  0.85  2.77   0.17   1.25   \n",
       "3         43.6         34.6     0.0     1.0  1.11  0.68   0.84   1.60   \n",
       "4         31.9         48.0     1.0     1.0  0.73  1.11   0.88   1.81   \n",
       "5         33.9         32.5     1.0     1.0  1.40  0.55   1.13   1.06   \n",
       "6         36.5         29.1     0.0     1.0  1.24  1.84   1.71   1.56   \n",
       "7         34.1         30.7     1.0     1.0  1.05  0.22   1.52   0.41   \n",
       "8         37.9         44.2     3.0     2.0  1.03  1.84   1.10   2.26   \n",
       "9         73.0         27.0     2.0     1.0  2.14  1.25   1.81   0.92   \n",
       "\n",
       "   adj_score1  adj_score2  \n",
       "0        0.00        1.05  \n",
       "1        2.10        2.10  \n",
       "2        2.10        1.05  \n",
       "3        0.00        1.05  \n",
       "4        1.05        1.05  \n",
       "5        1.05        1.05  \n",
       "6        0.00        1.05  \n",
       "7        1.05        1.05  \n",
       "8        3.12        2.10  \n",
       "9        2.10        1.05  \n",
       "\n",
       "[10 rows x 22 columns]"
      ]
     },
     "execution_count": 2,
     "metadata": {},
     "output_type": "execute_result"
    }
   ],
   "source": [
    "soccerMatchDf = pd.read_csv('../data/spi_matches.csv')\n",
    "soccerMatchDf.head(10)"
   ]
  },
  {
   "cell_type": "code",
   "execution_count": 3,
   "metadata": {},
   "outputs": [
    {
     "data": {
      "text/html": [
       "<div>\n",
       "<style scoped>\n",
       "    .dataframe tbody tr th:only-of-type {\n",
       "        vertical-align: middle;\n",
       "    }\n",
       "\n",
       "    .dataframe tbody tr th {\n",
       "        vertical-align: top;\n",
       "    }\n",
       "\n",
       "    .dataframe thead th {\n",
       "        text-align: right;\n",
       "    }\n",
       "</style>\n",
       "<table border=\"1\" class=\"dataframe\">\n",
       "  <thead>\n",
       "    <tr style=\"text-align: right;\">\n",
       "      <th></th>\n",
       "      <th>rank</th>\n",
       "      <th>prev_rank</th>\n",
       "      <th>name</th>\n",
       "      <th>league</th>\n",
       "      <th>off</th>\n",
       "      <th>def</th>\n",
       "      <th>spi</th>\n",
       "    </tr>\n",
       "  </thead>\n",
       "  <tbody>\n",
       "    <tr>\n",
       "      <th>0</th>\n",
       "      <td>1</td>\n",
       "      <td>1.0</td>\n",
       "      <td>Manchester City</td>\n",
       "      <td>Barclays Premier League</td>\n",
       "      <td>3.32</td>\n",
       "      <td>0.21</td>\n",
       "      <td>95.55</td>\n",
       "    </tr>\n",
       "    <tr>\n",
       "      <th>1</th>\n",
       "      <td>2</td>\n",
       "      <td>2.0</td>\n",
       "      <td>Bayern Munich</td>\n",
       "      <td>German Bundesliga</td>\n",
       "      <td>3.21</td>\n",
       "      <td>0.39</td>\n",
       "      <td>92.90</td>\n",
       "    </tr>\n",
       "    <tr>\n",
       "      <th>2</th>\n",
       "      <td>3</td>\n",
       "      <td>3.0</td>\n",
       "      <td>Liverpool</td>\n",
       "      <td>Barclays Premier League</td>\n",
       "      <td>2.89</td>\n",
       "      <td>0.26</td>\n",
       "      <td>92.88</td>\n",
       "    </tr>\n",
       "    <tr>\n",
       "      <th>3</th>\n",
       "      <td>4</td>\n",
       "      <td>4.0</td>\n",
       "      <td>Paris Saint-Germain</td>\n",
       "      <td>French Ligue 1</td>\n",
       "      <td>2.78</td>\n",
       "      <td>0.41</td>\n",
       "      <td>89.80</td>\n",
       "    </tr>\n",
       "    <tr>\n",
       "      <th>4</th>\n",
       "      <td>5</td>\n",
       "      <td>5.0</td>\n",
       "      <td>Barcelona</td>\n",
       "      <td>Spanish Primera Division</td>\n",
       "      <td>2.82</td>\n",
       "      <td>0.44</td>\n",
       "      <td>89.53</td>\n",
       "    </tr>\n",
       "  </tbody>\n",
       "</table>\n",
       "</div>"
      ],
      "text/plain": [
       "   rank  prev_rank                 name                    league   off   def  \\\n",
       "0     1        1.0      Manchester City   Barclays Premier League  3.32  0.21   \n",
       "1     2        2.0        Bayern Munich         German Bundesliga  3.21  0.39   \n",
       "2     3        3.0            Liverpool   Barclays Premier League  2.89  0.26   \n",
       "3     4        4.0  Paris Saint-Germain            French Ligue 1  2.78  0.41   \n",
       "4     5        5.0            Barcelona  Spanish Primera Division  2.82  0.44   \n",
       "\n",
       "     spi  \n",
       "0  95.55  \n",
       "1  92.90  \n",
       "2  92.88  \n",
       "3  89.80  \n",
       "4  89.53  "
      ]
     },
     "execution_count": 3,
     "metadata": {},
     "output_type": "execute_result"
    }
   ],
   "source": [
    "globalRankDf = pd.read_csv('../data/spi_global_rankings.csv')\n",
    "globalRankDf.head(5)"
   ]
  },
  {
   "cell_type": "code",
   "execution_count": 4,
   "metadata": {},
   "outputs": [
    {
     "data": {
      "text/html": [
       "<div>\n",
       "<style scoped>\n",
       "    .dataframe tbody tr th:only-of-type {\n",
       "        vertical-align: middle;\n",
       "    }\n",
       "\n",
       "    .dataframe tbody tr th {\n",
       "        vertical-align: top;\n",
       "    }\n",
       "\n",
       "    .dataframe thead th {\n",
       "        text-align: right;\n",
       "    }\n",
       "</style>\n",
       "<table border=\"1\" class=\"dataframe\">\n",
       "  <thead>\n",
       "    <tr style=\"text-align: right;\">\n",
       "      <th></th>\n",
       "      <th>rank</th>\n",
       "      <th>name</th>\n",
       "      <th>confed</th>\n",
       "      <th>off</th>\n",
       "      <th>def</th>\n",
       "      <th>spi</th>\n",
       "    </tr>\n",
       "  </thead>\n",
       "  <tbody>\n",
       "    <tr>\n",
       "      <th>0</th>\n",
       "      <td>1</td>\n",
       "      <td>Spain</td>\n",
       "      <td>UEFA</td>\n",
       "      <td>3.38</td>\n",
       "      <td>0.58</td>\n",
       "      <td>90.79</td>\n",
       "    </tr>\n",
       "    <tr>\n",
       "      <th>1</th>\n",
       "      <td>2</td>\n",
       "      <td>Brazil</td>\n",
       "      <td>CONMEBOL</td>\n",
       "      <td>2.91</td>\n",
       "      <td>0.37</td>\n",
       "      <td>90.65</td>\n",
       "    </tr>\n",
       "    <tr>\n",
       "      <th>2</th>\n",
       "      <td>3</td>\n",
       "      <td>Germany</td>\n",
       "      <td>UEFA</td>\n",
       "      <td>3.11</td>\n",
       "      <td>0.59</td>\n",
       "      <td>88.78</td>\n",
       "    </tr>\n",
       "    <tr>\n",
       "      <th>3</th>\n",
       "      <td>4</td>\n",
       "      <td>Belgium</td>\n",
       "      <td>UEFA</td>\n",
       "      <td>2.95</td>\n",
       "      <td>0.56</td>\n",
       "      <td>87.97</td>\n",
       "    </tr>\n",
       "    <tr>\n",
       "      <th>4</th>\n",
       "      <td>5</td>\n",
       "      <td>Argentina</td>\n",
       "      <td>CONMEBOL</td>\n",
       "      <td>2.57</td>\n",
       "      <td>0.42</td>\n",
       "      <td>86.98</td>\n",
       "    </tr>\n",
       "  </tbody>\n",
       "</table>\n",
       "</div>"
      ],
      "text/plain": [
       "   rank       name    confed   off   def    spi\n",
       "0     1      Spain      UEFA  3.38  0.58  90.79\n",
       "1     2     Brazil  CONMEBOL  2.91  0.37  90.65\n",
       "2     3    Germany      UEFA  3.11  0.59  88.78\n",
       "3     4    Belgium      UEFA  2.95  0.56  87.97\n",
       "4     5  Argentina  CONMEBOL  2.57  0.42  86.98"
      ]
     },
     "execution_count": 4,
     "metadata": {},
     "output_type": "execute_result"
    }
   ],
   "source": [
    "globalIntlRankDf = pd.read_csv('../data/spi_global_rankings_intl.csv')\n",
    "globalIntlRankDf.head(5)"
   ]
  },
  {
   "cell_type": "markdown",
   "metadata": {},
   "source": [
    "**We are not going to use spi_global_rankings.csv and spi_global_rankings_intl.csv this time since these dataset are the latest rankings. Also, we are concerned about the time of football match, the updated spi have nothing to do with the spi_matches.csv. The spi ranking at the time of football match is already included in this file.** "
   ]
  },
  {
   "cell_type": "code",
   "execution_count": 5,
   "metadata": {},
   "outputs": [
    {
     "data": {
      "text/plain": [
       "Index(['date', 'league_id', 'league', 'team1', 'team2', 'spi1', 'spi2',\n",
       "       'prob1', 'prob2', 'probtie', 'proj_score1', 'proj_score2',\n",
       "       'importance1', 'importance2', 'score1', 'score2', 'xg1', 'xg2', 'nsxg1',\n",
       "       'nsxg2', 'adj_score1', 'adj_score2'],\n",
       "      dtype='object')"
      ]
     },
     "execution_count": 5,
     "metadata": {},
     "output_type": "execute_result"
    }
   ],
   "source": [
    "soccerMatchDf.columns"
   ]
  },
  {
   "cell_type": "code",
   "execution_count": 6,
   "metadata": {},
   "outputs": [
    {
     "data": {
      "text/html": [
       "<div>\n",
       "<style scoped>\n",
       "    .dataframe tbody tr th:only-of-type {\n",
       "        vertical-align: middle;\n",
       "    }\n",
       "\n",
       "    .dataframe tbody tr th {\n",
       "        vertical-align: top;\n",
       "    }\n",
       "\n",
       "    .dataframe thead th {\n",
       "        text-align: right;\n",
       "    }\n",
       "</style>\n",
       "<table border=\"1\" class=\"dataframe\">\n",
       "  <thead>\n",
       "    <tr style=\"text-align: right;\">\n",
       "      <th></th>\n",
       "      <th>importance1</th>\n",
       "      <th>importance2</th>\n",
       "      <th>score1</th>\n",
       "      <th>score2</th>\n",
       "      <th>xg1</th>\n",
       "      <th>xg2</th>\n",
       "      <th>nsxg1</th>\n",
       "      <th>nsxg2</th>\n",
       "      <th>adj_score1</th>\n",
       "      <th>adj_score2</th>\n",
       "    </tr>\n",
       "  </thead>\n",
       "  <tbody>\n",
       "    <tr>\n",
       "      <th>32249</th>\n",
       "      <td>NaN</td>\n",
       "      <td>NaN</td>\n",
       "      <td>NaN</td>\n",
       "      <td>NaN</td>\n",
       "      <td>NaN</td>\n",
       "      <td>NaN</td>\n",
       "      <td>NaN</td>\n",
       "      <td>NaN</td>\n",
       "      <td>NaN</td>\n",
       "      <td>NaN</td>\n",
       "    </tr>\n",
       "    <tr>\n",
       "      <th>32250</th>\n",
       "      <td>NaN</td>\n",
       "      <td>NaN</td>\n",
       "      <td>NaN</td>\n",
       "      <td>NaN</td>\n",
       "      <td>NaN</td>\n",
       "      <td>NaN</td>\n",
       "      <td>NaN</td>\n",
       "      <td>NaN</td>\n",
       "      <td>NaN</td>\n",
       "      <td>NaN</td>\n",
       "    </tr>\n",
       "    <tr>\n",
       "      <th>32251</th>\n",
       "      <td>NaN</td>\n",
       "      <td>NaN</td>\n",
       "      <td>NaN</td>\n",
       "      <td>NaN</td>\n",
       "      <td>NaN</td>\n",
       "      <td>NaN</td>\n",
       "      <td>NaN</td>\n",
       "      <td>NaN</td>\n",
       "      <td>NaN</td>\n",
       "      <td>NaN</td>\n",
       "    </tr>\n",
       "    <tr>\n",
       "      <th>32252</th>\n",
       "      <td>NaN</td>\n",
       "      <td>NaN</td>\n",
       "      <td>NaN</td>\n",
       "      <td>NaN</td>\n",
       "      <td>NaN</td>\n",
       "      <td>NaN</td>\n",
       "      <td>NaN</td>\n",
       "      <td>NaN</td>\n",
       "      <td>NaN</td>\n",
       "      <td>NaN</td>\n",
       "    </tr>\n",
       "    <tr>\n",
       "      <th>32253</th>\n",
       "      <td>NaN</td>\n",
       "      <td>NaN</td>\n",
       "      <td>NaN</td>\n",
       "      <td>NaN</td>\n",
       "      <td>NaN</td>\n",
       "      <td>NaN</td>\n",
       "      <td>NaN</td>\n",
       "      <td>NaN</td>\n",
       "      <td>NaN</td>\n",
       "      <td>NaN</td>\n",
       "    </tr>\n",
       "    <tr>\n",
       "      <th>32254</th>\n",
       "      <td>NaN</td>\n",
       "      <td>NaN</td>\n",
       "      <td>NaN</td>\n",
       "      <td>NaN</td>\n",
       "      <td>NaN</td>\n",
       "      <td>NaN</td>\n",
       "      <td>NaN</td>\n",
       "      <td>NaN</td>\n",
       "      <td>NaN</td>\n",
       "      <td>NaN</td>\n",
       "    </tr>\n",
       "    <tr>\n",
       "      <th>32255</th>\n",
       "      <td>NaN</td>\n",
       "      <td>NaN</td>\n",
       "      <td>NaN</td>\n",
       "      <td>NaN</td>\n",
       "      <td>NaN</td>\n",
       "      <td>NaN</td>\n",
       "      <td>NaN</td>\n",
       "      <td>NaN</td>\n",
       "      <td>NaN</td>\n",
       "      <td>NaN</td>\n",
       "    </tr>\n",
       "    <tr>\n",
       "      <th>32256</th>\n",
       "      <td>NaN</td>\n",
       "      <td>NaN</td>\n",
       "      <td>NaN</td>\n",
       "      <td>NaN</td>\n",
       "      <td>NaN</td>\n",
       "      <td>NaN</td>\n",
       "      <td>NaN</td>\n",
       "      <td>NaN</td>\n",
       "      <td>NaN</td>\n",
       "      <td>NaN</td>\n",
       "    </tr>\n",
       "    <tr>\n",
       "      <th>32257</th>\n",
       "      <td>NaN</td>\n",
       "      <td>NaN</td>\n",
       "      <td>NaN</td>\n",
       "      <td>NaN</td>\n",
       "      <td>NaN</td>\n",
       "      <td>NaN</td>\n",
       "      <td>NaN</td>\n",
       "      <td>NaN</td>\n",
       "      <td>NaN</td>\n",
       "      <td>NaN</td>\n",
       "    </tr>\n",
       "    <tr>\n",
       "      <th>32258</th>\n",
       "      <td>NaN</td>\n",
       "      <td>NaN</td>\n",
       "      <td>NaN</td>\n",
       "      <td>NaN</td>\n",
       "      <td>NaN</td>\n",
       "      <td>NaN</td>\n",
       "      <td>NaN</td>\n",
       "      <td>NaN</td>\n",
       "      <td>NaN</td>\n",
       "      <td>NaN</td>\n",
       "    </tr>\n",
       "  </tbody>\n",
       "</table>\n",
       "</div>"
      ],
      "text/plain": [
       "       importance1  importance2  score1  score2  xg1  xg2  nsxg1  nsxg2  \\\n",
       "32249          NaN          NaN     NaN     NaN  NaN  NaN    NaN    NaN   \n",
       "32250          NaN          NaN     NaN     NaN  NaN  NaN    NaN    NaN   \n",
       "32251          NaN          NaN     NaN     NaN  NaN  NaN    NaN    NaN   \n",
       "32252          NaN          NaN     NaN     NaN  NaN  NaN    NaN    NaN   \n",
       "32253          NaN          NaN     NaN     NaN  NaN  NaN    NaN    NaN   \n",
       "32254          NaN          NaN     NaN     NaN  NaN  NaN    NaN    NaN   \n",
       "32255          NaN          NaN     NaN     NaN  NaN  NaN    NaN    NaN   \n",
       "32256          NaN          NaN     NaN     NaN  NaN  NaN    NaN    NaN   \n",
       "32257          NaN          NaN     NaN     NaN  NaN  NaN    NaN    NaN   \n",
       "32258          NaN          NaN     NaN     NaN  NaN  NaN    NaN    NaN   \n",
       "\n",
       "       adj_score1  adj_score2  \n",
       "32249         NaN         NaN  \n",
       "32250         NaN         NaN  \n",
       "32251         NaN         NaN  \n",
       "32252         NaN         NaN  \n",
       "32253         NaN         NaN  \n",
       "32254         NaN         NaN  \n",
       "32255         NaN         NaN  \n",
       "32256         NaN         NaN  \n",
       "32257         NaN         NaN  \n",
       "32258         NaN         NaN  "
      ]
     },
     "execution_count": 6,
     "metadata": {},
     "output_type": "execute_result"
    }
   ],
   "source": [
    "soccerMatchDf.loc[:, soccerMatchDf.isna().any()].tail(10)"
   ]
  },
  {
   "cell_type": "markdown",
   "metadata": {},
   "source": [
    "**Many columns have NaN values instead of valid data. So we will clean those datafields for simplicity.**"
   ]
  },
  {
   "cell_type": "code",
   "execution_count": 7,
   "metadata": {},
   "outputs": [
    {
     "name": "stdout",
     "output_type": "stream",
     "text": [
      "(12474, 22)\n"
     ]
    }
   ],
   "source": [
    "cleanSoccerMatchDf = soccerMatchDf.dropna()\n",
    "cleanSoccerMatchDf.tail(10)\n",
    "print(cleanSoccerMatchDf.shape)"
   ]
  },
  {
   "cell_type": "code",
   "execution_count": 8,
   "metadata": {},
   "outputs": [
    {
     "data": {
      "text/plain": [
       "array(['French Ligue 1', 'Barclays Premier League',\n",
       "       'Spanish Primera Division', 'Italy Serie A', 'German Bundesliga',\n",
       "       'Major League Soccer', 'Brasileiro Série A',\n",
       "       'Mexican Primera Division Torneo Apertura',\n",
       "       'Argentina Primera Division', 'UEFA Champions League',\n",
       "       'UEFA Europa League', 'English League Championship',\n",
       "       'Portuguese Liga', 'Mexican Primera Division Torneo Clausura',\n",
       "       'German 2. Bundesliga', 'Chinese Super League', 'Italy Serie B',\n",
       "       'Australian A-League'], dtype=object)"
      ]
     },
     "execution_count": 8,
     "metadata": {},
     "output_type": "execute_result"
    }
   ],
   "source": [
    "cleanSoccerMatchDf['league'].unique()"
   ]
  },
  {
   "cell_type": "code",
   "execution_count": 9,
   "metadata": {
    "scrolled": true
   },
   "outputs": [
    {
     "data": {
      "text/html": [
       "<div>\n",
       "<style scoped>\n",
       "    .dataframe tbody tr th:only-of-type {\n",
       "        vertical-align: middle;\n",
       "    }\n",
       "\n",
       "    .dataframe tbody tr th {\n",
       "        vertical-align: top;\n",
       "    }\n",
       "\n",
       "    .dataframe thead th {\n",
       "        text-align: right;\n",
       "    }\n",
       "</style>\n",
       "<table border=\"1\" class=\"dataframe\">\n",
       "  <thead>\n",
       "    <tr style=\"text-align: right;\">\n",
       "      <th></th>\n",
       "      <th>Argentina Primera Division</th>\n",
       "      <th>Australian A-League</th>\n",
       "      <th>Barclays Premier League</th>\n",
       "      <th>Brasileiro Série A</th>\n",
       "      <th>Chinese Super League</th>\n",
       "      <th>English League Championship</th>\n",
       "      <th>French Ligue 1</th>\n",
       "      <th>German 2. Bundesliga</th>\n",
       "      <th>German Bundesliga</th>\n",
       "      <th>Italy Serie A</th>\n",
       "      <th>Italy Serie B</th>\n",
       "      <th>Major League Soccer</th>\n",
       "      <th>Mexican Primera Division Torneo Apertura</th>\n",
       "      <th>Mexican Primera Division Torneo Clausura</th>\n",
       "      <th>Portuguese Liga</th>\n",
       "      <th>Spanish Primera Division</th>\n",
       "      <th>UEFA Champions League</th>\n",
       "      <th>UEFA Europa League</th>\n",
       "    </tr>\n",
       "  </thead>\n",
       "  <tbody>\n",
       "    <tr>\n",
       "      <th>0</th>\n",
       "      <td>0</td>\n",
       "      <td>0</td>\n",
       "      <td>0</td>\n",
       "      <td>0</td>\n",
       "      <td>0</td>\n",
       "      <td>0</td>\n",
       "      <td>1</td>\n",
       "      <td>0</td>\n",
       "      <td>0</td>\n",
       "      <td>0</td>\n",
       "      <td>0</td>\n",
       "      <td>0</td>\n",
       "      <td>0</td>\n",
       "      <td>0</td>\n",
       "      <td>0</td>\n",
       "      <td>0</td>\n",
       "      <td>0</td>\n",
       "      <td>0</td>\n",
       "    </tr>\n",
       "    <tr>\n",
       "      <th>1</th>\n",
       "      <td>0</td>\n",
       "      <td>0</td>\n",
       "      <td>0</td>\n",
       "      <td>0</td>\n",
       "      <td>0</td>\n",
       "      <td>0</td>\n",
       "      <td>1</td>\n",
       "      <td>0</td>\n",
       "      <td>0</td>\n",
       "      <td>0</td>\n",
       "      <td>0</td>\n",
       "      <td>0</td>\n",
       "      <td>0</td>\n",
       "      <td>0</td>\n",
       "      <td>0</td>\n",
       "      <td>0</td>\n",
       "      <td>0</td>\n",
       "      <td>0</td>\n",
       "    </tr>\n",
       "    <tr>\n",
       "      <th>2</th>\n",
       "      <td>0</td>\n",
       "      <td>0</td>\n",
       "      <td>1</td>\n",
       "      <td>0</td>\n",
       "      <td>0</td>\n",
       "      <td>0</td>\n",
       "      <td>0</td>\n",
       "      <td>0</td>\n",
       "      <td>0</td>\n",
       "      <td>0</td>\n",
       "      <td>0</td>\n",
       "      <td>0</td>\n",
       "      <td>0</td>\n",
       "      <td>0</td>\n",
       "      <td>0</td>\n",
       "      <td>0</td>\n",
       "      <td>0</td>\n",
       "      <td>0</td>\n",
       "    </tr>\n",
       "    <tr>\n",
       "      <th>3</th>\n",
       "      <td>0</td>\n",
       "      <td>0</td>\n",
       "      <td>1</td>\n",
       "      <td>0</td>\n",
       "      <td>0</td>\n",
       "      <td>0</td>\n",
       "      <td>0</td>\n",
       "      <td>0</td>\n",
       "      <td>0</td>\n",
       "      <td>0</td>\n",
       "      <td>0</td>\n",
       "      <td>0</td>\n",
       "      <td>0</td>\n",
       "      <td>0</td>\n",
       "      <td>0</td>\n",
       "      <td>0</td>\n",
       "      <td>0</td>\n",
       "      <td>0</td>\n",
       "    </tr>\n",
       "    <tr>\n",
       "      <th>4</th>\n",
       "      <td>0</td>\n",
       "      <td>0</td>\n",
       "      <td>1</td>\n",
       "      <td>0</td>\n",
       "      <td>0</td>\n",
       "      <td>0</td>\n",
       "      <td>0</td>\n",
       "      <td>0</td>\n",
       "      <td>0</td>\n",
       "      <td>0</td>\n",
       "      <td>0</td>\n",
       "      <td>0</td>\n",
       "      <td>0</td>\n",
       "      <td>0</td>\n",
       "      <td>0</td>\n",
       "      <td>0</td>\n",
       "      <td>0</td>\n",
       "      <td>0</td>\n",
       "    </tr>\n",
       "  </tbody>\n",
       "</table>\n",
       "</div>"
      ],
      "text/plain": [
       "   Argentina Primera Division  Australian A-League  Barclays Premier League  \\\n",
       "0                           0                    0                        0   \n",
       "1                           0                    0                        0   \n",
       "2                           0                    0                        1   \n",
       "3                           0                    0                        1   \n",
       "4                           0                    0                        1   \n",
       "\n",
       "   Brasileiro Série A  Chinese Super League  English League Championship  \\\n",
       "0                   0                     0                            0   \n",
       "1                   0                     0                            0   \n",
       "2                   0                     0                            0   \n",
       "3                   0                     0                            0   \n",
       "4                   0                     0                            0   \n",
       "\n",
       "   French Ligue 1  German 2. Bundesliga  German Bundesliga  Italy Serie A  \\\n",
       "0               1                     0                  0              0   \n",
       "1               1                     0                  0              0   \n",
       "2               0                     0                  0              0   \n",
       "3               0                     0                  0              0   \n",
       "4               0                     0                  0              0   \n",
       "\n",
       "   Italy Serie B  Major League Soccer  \\\n",
       "0              0                    0   \n",
       "1              0                    0   \n",
       "2              0                    0   \n",
       "3              0                    0   \n",
       "4              0                    0   \n",
       "\n",
       "   Mexican Primera Division Torneo Apertura  \\\n",
       "0                                         0   \n",
       "1                                         0   \n",
       "2                                         0   \n",
       "3                                         0   \n",
       "4                                         0   \n",
       "\n",
       "   Mexican Primera Division Torneo Clausura  Portuguese Liga  \\\n",
       "0                                         0                0   \n",
       "1                                         0                0   \n",
       "2                                         0                0   \n",
       "3                                         0                0   \n",
       "4                                         0                0   \n",
       "\n",
       "   Spanish Primera Division  UEFA Champions League  UEFA Europa League  \n",
       "0                         0                      0                   0  \n",
       "1                         0                      0                   0  \n",
       "2                         0                      0                   0  \n",
       "3                         0                      0                   0  \n",
       "4                         0                      0                   0  "
      ]
     },
     "execution_count": 9,
     "metadata": {},
     "output_type": "execute_result"
    }
   ],
   "source": [
    "oneHotLeagues = pd.get_dummies(cleanSoccerMatchDf['league'])\n",
    "oneHotLeagues.head(5)"
   ]
  },
  {
   "cell_type": "markdown",
   "metadata": {},
   "source": [
    "**The leagues might have some correlation with the scores. So, we applied one hot encoding to the leagues and use these as features.**"
   ]
  },
  {
   "cell_type": "code",
   "execution_count": 10,
   "metadata": {},
   "outputs": [],
   "source": [
    "scoreCnt1 = cleanSoccerMatchDf['score1'].value_counts()\n",
    "scoreCnt2 = cleanSoccerMatchDf['score2'].value_counts()\n"
   ]
  },
  {
   "cell_type": "code",
   "execution_count": 11,
   "metadata": {},
   "outputs": [
    {
     "data": {
      "image/png": "[encoded data removed]",
      "text/plain": [
       "<Figure size 432x288 with 1 Axes>"
      ]
     },
     "metadata": {},
     "output_type": "display_data"
    }
   ],
   "source": [
    "plt.bar(scoreCnt1.index,scoreCnt1.values)\n",
    "plt.show()"
   ]
  },
  {
   "cell_type": "code",
   "execution_count": 12,
   "metadata": {},
   "outputs": [
    {
     "data": {
      "image/png": "[encoded data removed]",
      "text/plain": [
       "<Figure size 432x288 with 1 Axes>"
      ]
     },
     "metadata": {},
     "output_type": "display_data"
    }
   ],
   "source": [
    "plt.bar(scoreCnt2.index, scoreCnt2.values)\n",
    "plt.show()"
   ]
  },
  {
   "cell_type": "markdown",
   "metadata": {},
   "source": [
    "**According to the documentation of the dataset, xg(shot based expected goal), nsxg(nonshot based expected goal) and adj_score(adjuested score) are obtained after the match. So, these columns will not be used as features to predict the scores.**\n",
    "\n",
    "**We want to predict score of both teams. So at a time, we will take required features and predict score of required teams.**"
   ]
  },
  {
   "cell_type": "code",
   "execution_count": 13,
   "metadata": {},
   "outputs": [
    {
     "data": {
      "text/html": [
       "<div>\n",
       "<style scoped>\n",
       "    .dataframe tbody tr th:only-of-type {\n",
       "        vertical-align: middle;\n",
       "    }\n",
       "\n",
       "    .dataframe tbody tr th {\n",
       "        vertical-align: top;\n",
       "    }\n",
       "\n",
       "    .dataframe thead th {\n",
       "        text-align: right;\n",
       "    }\n",
       "</style>\n",
       "<table border=\"1\" class=\"dataframe\">\n",
       "  <thead>\n",
       "    <tr style=\"text-align: right;\">\n",
       "      <th></th>\n",
       "      <th>spi1</th>\n",
       "      <th>spi2</th>\n",
       "      <th>prob1</th>\n",
       "      <th>prob2</th>\n",
       "      <th>probtie</th>\n",
       "      <th>proj_score1</th>\n",
       "      <th>proj_score2</th>\n",
       "      <th>importance1</th>\n",
       "      <th>importance2</th>\n",
       "    </tr>\n",
       "  </thead>\n",
       "  <tbody>\n",
       "    <tr>\n",
       "      <th>0</th>\n",
       "      <td>51.16</td>\n",
       "      <td>85.68</td>\n",
       "      <td>0.0463</td>\n",
       "      <td>0.8380</td>\n",
       "      <td>0.1157</td>\n",
       "      <td>0.91</td>\n",
       "      <td>2.36</td>\n",
       "      <td>32.4</td>\n",
       "      <td>67.7</td>\n",
       "    </tr>\n",
       "    <tr>\n",
       "      <th>1</th>\n",
       "      <td>68.85</td>\n",
       "      <td>56.48</td>\n",
       "      <td>0.5714</td>\n",
       "      <td>0.1669</td>\n",
       "      <td>0.2617</td>\n",
       "      <td>1.82</td>\n",
       "      <td>0.86</td>\n",
       "      <td>53.7</td>\n",
       "      <td>22.9</td>\n",
       "    </tr>\n",
       "    <tr>\n",
       "      <th>2</th>\n",
       "      <td>53.57</td>\n",
       "      <td>66.81</td>\n",
       "      <td>0.3459</td>\n",
       "      <td>0.3621</td>\n",
       "      <td>0.2921</td>\n",
       "      <td>1.16</td>\n",
       "      <td>1.24</td>\n",
       "      <td>38.1</td>\n",
       "      <td>22.2</td>\n",
       "    </tr>\n",
       "    <tr>\n",
       "      <th>3</th>\n",
       "      <td>55.19</td>\n",
       "      <td>58.66</td>\n",
       "      <td>0.4214</td>\n",
       "      <td>0.2939</td>\n",
       "      <td>0.2847</td>\n",
       "      <td>1.35</td>\n",
       "      <td>1.14</td>\n",
       "      <td>43.6</td>\n",
       "      <td>34.6</td>\n",
       "    </tr>\n",
       "    <tr>\n",
       "      <th>4</th>\n",
       "      <td>68.02</td>\n",
       "      <td>73.25</td>\n",
       "      <td>0.3910</td>\n",
       "      <td>0.3401</td>\n",
       "      <td>0.2689</td>\n",
       "      <td>1.47</td>\n",
       "      <td>1.38</td>\n",
       "      <td>31.9</td>\n",
       "      <td>48.0</td>\n",
       "    </tr>\n",
       "  </tbody>\n",
       "</table>\n",
       "</div>"
      ],
      "text/plain": [
       "    spi1   spi2   prob1   prob2  probtie  proj_score1  proj_score2  \\\n",
       "0  51.16  85.68  0.0463  0.8380   0.1157         0.91         2.36   \n",
       "1  68.85  56.48  0.5714  0.1669   0.2617         1.82         0.86   \n",
       "2  53.57  66.81  0.3459  0.3621   0.2921         1.16         1.24   \n",
       "3  55.19  58.66  0.4214  0.2939   0.2847         1.35         1.14   \n",
       "4  68.02  73.25  0.3910  0.3401   0.2689         1.47         1.38   \n",
       "\n",
       "   importance1  importance2  \n",
       "0         32.4         67.7  \n",
       "1         53.7         22.9  \n",
       "2         38.1         22.2  \n",
       "3         43.6         34.6  \n",
       "4         31.9         48.0  "
      ]
     },
     "execution_count": 13,
     "metadata": {},
     "output_type": "execute_result"
    }
   ],
   "source": [
    "features = ['spi1', 'spi2','prob1', 'prob2', 'probtie', 'proj_score1', 'proj_score2', 'importance1', 'importance2']\n",
    "featuresDf1 = cleanSoccerMatchDf[features]\n",
    "featuresDf1.head()"
   ]
  },
  {
   "cell_type": "code",
   "execution_count": 14,
   "metadata": {},
   "outputs": [
    {
     "data": {
      "text/html": [
       "<div>\n",
       "<style scoped>\n",
       "    .dataframe tbody tr th:only-of-type {\n",
       "        vertical-align: middle;\n",
       "    }\n",
       "\n",
       "    .dataframe tbody tr th {\n",
       "        vertical-align: top;\n",
       "    }\n",
       "\n",
       "    .dataframe thead th {\n",
       "        text-align: right;\n",
       "    }\n",
       "</style>\n",
       "<table border=\"1\" class=\"dataframe\">\n",
       "  <thead>\n",
       "    <tr style=\"text-align: right;\">\n",
       "      <th></th>\n",
       "      <th>spi1</th>\n",
       "      <th>spi2</th>\n",
       "      <th>prob1</th>\n",
       "      <th>prob2</th>\n",
       "      <th>probtie</th>\n",
       "      <th>proj_score1</th>\n",
       "      <th>proj_score2</th>\n",
       "      <th>importance1</th>\n",
       "      <th>importance2</th>\n",
       "      <th>Argentina Primera Division</th>\n",
       "      <th>...</th>\n",
       "      <th>German Bundesliga</th>\n",
       "      <th>Italy Serie A</th>\n",
       "      <th>Italy Serie B</th>\n",
       "      <th>Major League Soccer</th>\n",
       "      <th>Mexican Primera Division Torneo Apertura</th>\n",
       "      <th>Mexican Primera Division Torneo Clausura</th>\n",
       "      <th>Portuguese Liga</th>\n",
       "      <th>Spanish Primera Division</th>\n",
       "      <th>UEFA Champions League</th>\n",
       "      <th>UEFA Europa League</th>\n",
       "    </tr>\n",
       "  </thead>\n",
       "  <tbody>\n",
       "    <tr>\n",
       "      <th>0</th>\n",
       "      <td>51.16</td>\n",
       "      <td>85.68</td>\n",
       "      <td>0.0463</td>\n",
       "      <td>0.8380</td>\n",
       "      <td>0.1157</td>\n",
       "      <td>0.91</td>\n",
       "      <td>2.36</td>\n",
       "      <td>32.4</td>\n",
       "      <td>67.7</td>\n",
       "      <td>0</td>\n",
       "      <td>...</td>\n",
       "      <td>0</td>\n",
       "      <td>0</td>\n",
       "      <td>0</td>\n",
       "      <td>0</td>\n",
       "      <td>0</td>\n",
       "      <td>0</td>\n",
       "      <td>0</td>\n",
       "      <td>0</td>\n",
       "      <td>0</td>\n",
       "      <td>0</td>\n",
       "    </tr>\n",
       "    <tr>\n",
       "      <th>1</th>\n",
       "      <td>68.85</td>\n",
       "      <td>56.48</td>\n",
       "      <td>0.5714</td>\n",
       "      <td>0.1669</td>\n",
       "      <td>0.2617</td>\n",
       "      <td>1.82</td>\n",
       "      <td>0.86</td>\n",
       "      <td>53.7</td>\n",
       "      <td>22.9</td>\n",
       "      <td>0</td>\n",
       "      <td>...</td>\n",
       "      <td>0</td>\n",
       "      <td>0</td>\n",
       "      <td>0</td>\n",
       "      <td>0</td>\n",
       "      <td>0</td>\n",
       "      <td>0</td>\n",
       "      <td>0</td>\n",
       "      <td>0</td>\n",
       "      <td>0</td>\n",
       "      <td>0</td>\n",
       "    </tr>\n",
       "    <tr>\n",
       "      <th>2</th>\n",
       "      <td>53.57</td>\n",
       "      <td>66.81</td>\n",
       "      <td>0.3459</td>\n",
       "      <td>0.3621</td>\n",
       "      <td>0.2921</td>\n",
       "      <td>1.16</td>\n",
       "      <td>1.24</td>\n",
       "      <td>38.1</td>\n",
       "      <td>22.2</td>\n",
       "      <td>0</td>\n",
       "      <td>...</td>\n",
       "      <td>0</td>\n",
       "      <td>0</td>\n",
       "      <td>0</td>\n",
       "      <td>0</td>\n",
       "      <td>0</td>\n",
       "      <td>0</td>\n",
       "      <td>0</td>\n",
       "      <td>0</td>\n",
       "      <td>0</td>\n",
       "      <td>0</td>\n",
       "    </tr>\n",
       "    <tr>\n",
       "      <th>3</th>\n",
       "      <td>55.19</td>\n",
       "      <td>58.66</td>\n",
       "      <td>0.4214</td>\n",
       "      <td>0.2939</td>\n",
       "      <td>0.2847</td>\n",
       "      <td>1.35</td>\n",
       "      <td>1.14</td>\n",
       "      <td>43.6</td>\n",
       "      <td>34.6</td>\n",
       "      <td>0</td>\n",
       "      <td>...</td>\n",
       "      <td>0</td>\n",
       "      <td>0</td>\n",
       "      <td>0</td>\n",
       "      <td>0</td>\n",
       "      <td>0</td>\n",
       "      <td>0</td>\n",
       "      <td>0</td>\n",
       "      <td>0</td>\n",
       "      <td>0</td>\n",
       "      <td>0</td>\n",
       "    </tr>\n",
       "    <tr>\n",
       "      <th>4</th>\n",
       "      <td>68.02</td>\n",
       "      <td>73.25</td>\n",
       "      <td>0.3910</td>\n",
       "      <td>0.3401</td>\n",
       "      <td>0.2689</td>\n",
       "      <td>1.47</td>\n",
       "      <td>1.38</td>\n",
       "      <td>31.9</td>\n",
       "      <td>48.0</td>\n",
       "      <td>0</td>\n",
       "      <td>...</td>\n",
       "      <td>0</td>\n",
       "      <td>0</td>\n",
       "      <td>0</td>\n",
       "      <td>0</td>\n",
       "      <td>0</td>\n",
       "      <td>0</td>\n",
       "      <td>0</td>\n",
       "      <td>0</td>\n",
       "      <td>0</td>\n",
       "      <td>0</td>\n",
       "    </tr>\n",
       "    <tr>\n",
       "      <th>5</th>\n",
       "      <td>56.32</td>\n",
       "      <td>60.35</td>\n",
       "      <td>0.4380</td>\n",
       "      <td>0.2692</td>\n",
       "      <td>0.2927</td>\n",
       "      <td>1.30</td>\n",
       "      <td>1.01</td>\n",
       "      <td>33.9</td>\n",
       "      <td>32.5</td>\n",
       "      <td>0</td>\n",
       "      <td>...</td>\n",
       "      <td>0</td>\n",
       "      <td>0</td>\n",
       "      <td>0</td>\n",
       "      <td>0</td>\n",
       "      <td>0</td>\n",
       "      <td>0</td>\n",
       "      <td>0</td>\n",
       "      <td>0</td>\n",
       "      <td>0</td>\n",
       "      <td>0</td>\n",
       "    </tr>\n",
       "    <tr>\n",
       "      <th>6</th>\n",
       "      <td>58.98</td>\n",
       "      <td>59.74</td>\n",
       "      <td>0.4482</td>\n",
       "      <td>0.2663</td>\n",
       "      <td>0.2854</td>\n",
       "      <td>1.37</td>\n",
       "      <td>1.05</td>\n",
       "      <td>36.5</td>\n",
       "      <td>29.1</td>\n",
       "      <td>0</td>\n",
       "      <td>...</td>\n",
       "      <td>0</td>\n",
       "      <td>0</td>\n",
       "      <td>0</td>\n",
       "      <td>0</td>\n",
       "      <td>0</td>\n",
       "      <td>0</td>\n",
       "      <td>0</td>\n",
       "      <td>0</td>\n",
       "      <td>0</td>\n",
       "      <td>0</td>\n",
       "    </tr>\n",
       "    <tr>\n",
       "      <th>7</th>\n",
       "      <td>69.49</td>\n",
       "      <td>59.33</td>\n",
       "      <td>0.5759</td>\n",
       "      <td>0.1874</td>\n",
       "      <td>0.2367</td>\n",
       "      <td>1.91</td>\n",
       "      <td>1.05</td>\n",
       "      <td>34.1</td>\n",
       "      <td>30.7</td>\n",
       "      <td>0</td>\n",
       "      <td>...</td>\n",
       "      <td>0</td>\n",
       "      <td>0</td>\n",
       "      <td>0</td>\n",
       "      <td>0</td>\n",
       "      <td>0</td>\n",
       "      <td>0</td>\n",
       "      <td>0</td>\n",
       "      <td>0</td>\n",
       "      <td>0</td>\n",
       "      <td>0</td>\n",
       "    </tr>\n",
       "    <tr>\n",
       "      <th>8</th>\n",
       "      <td>62.01</td>\n",
       "      <td>64.92</td>\n",
       "      <td>0.4232</td>\n",
       "      <td>0.2764</td>\n",
       "      <td>0.3004</td>\n",
       "      <td>1.39</td>\n",
       "      <td>1.14</td>\n",
       "      <td>37.9</td>\n",
       "      <td>44.2</td>\n",
       "      <td>0</td>\n",
       "      <td>...</td>\n",
       "      <td>0</td>\n",
       "      <td>0</td>\n",
       "      <td>0</td>\n",
       "      <td>0</td>\n",
       "      <td>0</td>\n",
       "      <td>0</td>\n",
       "      <td>0</td>\n",
       "      <td>0</td>\n",
       "      <td>0</td>\n",
       "      <td>0</td>\n",
       "    </tr>\n",
       "    <tr>\n",
       "      <th>9</th>\n",
       "      <td>86.42</td>\n",
       "      <td>53.64</td>\n",
       "      <td>0.8152</td>\n",
       "      <td>0.0525</td>\n",
       "      <td>0.1323</td>\n",
       "      <td>2.69</td>\n",
       "      <td>0.48</td>\n",
       "      <td>73.0</td>\n",
       "      <td>27.0</td>\n",
       "      <td>0</td>\n",
       "      <td>...</td>\n",
       "      <td>0</td>\n",
       "      <td>0</td>\n",
       "      <td>0</td>\n",
       "      <td>0</td>\n",
       "      <td>0</td>\n",
       "      <td>0</td>\n",
       "      <td>0</td>\n",
       "      <td>0</td>\n",
       "      <td>0</td>\n",
       "      <td>0</td>\n",
       "    </tr>\n",
       "  </tbody>\n",
       "</table>\n",
       "<p>10 rows × 27 columns</p>\n",
       "</div>"
      ],
      "text/plain": [
       "    spi1   spi2   prob1   prob2  probtie  proj_score1  proj_score2  \\\n",
       "0  51.16  85.68  0.0463  0.8380   0.1157         0.91         2.36   \n",
       "1  68.85  56.48  0.5714  0.1669   0.2617         1.82         0.86   \n",
       "2  53.57  66.81  0.3459  0.3621   0.2921         1.16         1.24   \n",
       "3  55.19  58.66  0.4214  0.2939   0.2847         1.35         1.14   \n",
       "4  68.02  73.25  0.3910  0.3401   0.2689         1.47         1.38   \n",
       "5  56.32  60.35  0.4380  0.2692   0.2927         1.30         1.01   \n",
       "6  58.98  59.74  0.4482  0.2663   0.2854         1.37         1.05   \n",
       "7  69.49  59.33  0.5759  0.1874   0.2367         1.91         1.05   \n",
       "8  62.01  64.92  0.4232  0.2764   0.3004         1.39         1.14   \n",
       "9  86.42  53.64  0.8152  0.0525   0.1323         2.69         0.48   \n",
       "\n",
       "   importance1  importance2  Argentina Primera Division         ...          \\\n",
       "0         32.4         67.7                           0         ...           \n",
       "1         53.7         22.9                           0         ...           \n",
       "2         38.1         22.2                           0         ...           \n",
       "3         43.6         34.6                           0         ...           \n",
       "4         31.9         48.0                           0         ...           \n",
       "5         33.9         32.5                           0         ...           \n",
       "6         36.5         29.1                           0         ...           \n",
       "7         34.1         30.7                           0         ...           \n",
       "8         37.9         44.2                           0         ...           \n",
       "9         73.0         27.0                           0         ...           \n",
       "\n",
       "   German Bundesliga  Italy Serie A  Italy Serie B  Major League Soccer  \\\n",
       "0                  0              0              0                    0   \n",
       "1                  0              0              0                    0   \n",
       "2                  0              0              0                    0   \n",
       "3                  0              0              0                    0   \n",
       "4                  0              0              0                    0   \n",
       "5                  0              0              0                    0   \n",
       "6                  0              0              0                    0   \n",
       "7                  0              0              0                    0   \n",
       "8                  0              0              0                    0   \n",
       "9                  0              0              0                    0   \n",
       "\n",
       "   Mexican Primera Division Torneo Apertura  \\\n",
       "0                                         0   \n",
       "1                                         0   \n",
       "2                                         0   \n",
       "3                                         0   \n",
       "4                                         0   \n",
       "5                                         0   \n",
       "6                                         0   \n",
       "7                                         0   \n",
       "8                                         0   \n",
       "9                                         0   \n",
       "\n",
       "   Mexican Primera Division Torneo Clausura  Portuguese Liga  \\\n",
       "0                                         0                0   \n",
       "1                                         0                0   \n",
       "2                                         0                0   \n",
       "3                                         0                0   \n",
       "4                                         0                0   \n",
       "5                                         0                0   \n",
       "6                                         0                0   \n",
       "7                                         0                0   \n",
       "8                                         0                0   \n",
       "9                                         0                0   \n",
       "\n",
       "   Spanish Primera Division  UEFA Champions League  UEFA Europa League  \n",
       "0                         0                      0                   0  \n",
       "1                         0                      0                   0  \n",
       "2                         0                      0                   0  \n",
       "3                         0                      0                   0  \n",
       "4                         0                      0                   0  \n",
       "5                         0                      0                   0  \n",
       "6                         0                      0                   0  \n",
       "7                         0                      0                   0  \n",
       "8                         0                      0                   0  \n",
       "9                         0                      0                   0  \n",
       "\n",
       "[10 rows x 27 columns]"
      ]
     },
     "execution_count": 14,
     "metadata": {},
     "output_type": "execute_result"
    }
   ],
   "source": [
    "featuresDf = featuresDf1.join(oneHotLeagues)\n",
    "featuresDf.head(10)"
   ]
  },
  {
   "cell_type": "markdown",
   "metadata": {},
   "source": [
    "**Now, we will scale data of features between 0 and 1 so that the effect of higher values will be neutralized.**"
   ]
  },
  {
   "cell_type": "code",
   "execution_count": 15,
   "metadata": {},
   "outputs": [
    {
     "data": {
      "text/plain": [
       "array([[0.44131398, 0.86439217, 0.01647655, ..., 0.        , 0.        ,\n",
       "        0.        ],\n",
       "       [0.65895669, 0.50474196, 0.57108154, ..., 0.        , 0.        ,\n",
       "        0.        ],\n",
       "       [0.47096457, 0.63197438, 0.33291086, ..., 0.        , 0.        ,\n",
       "        0.        ],\n",
       "       ...,\n",
       "       [0.25516732, 0.32454736, 0.3560414 , ..., 0.        , 0.        ,\n",
       "        0.        ],\n",
       "       [0.7230561 , 0.60376894, 0.55122518, ..., 1.        , 0.        ,\n",
       "        0.        ],\n",
       "       [0.39074803, 0.43823131, 0.41930714, ..., 0.        , 0.        ,\n",
       "        0.        ]])"
      ]
     },
     "execution_count": 15,
     "metadata": {},
     "output_type": "execute_result"
    }
   ],
   "source": [
    "scaler = MinMaxScaler()\n",
    "scaledFeatures = scaler.fit_transform(featuresDf)\n",
    "scaledFeatures"
   ]
  },
  {
   "cell_type": "code",
   "execution_count": 16,
   "metadata": {},
   "outputs": [],
   "source": [
    "X_train1, X_test1, y_train1, y_test1 = train_test_split(scaledFeatures, cleanSoccerMatchDf.score1, test_size=0.1, random_state=6)\n",
    "X_tr1, X_val1, y_tr1, y_val1 = train_test_split(X_train1, y_train1, test_size=0.1, random_state=6)"
   ]
  },
  {
   "cell_type": "code",
   "execution_count": 17,
   "metadata": {},
   "outputs": [],
   "source": [
    "X_train2, X_test2, y_train2, y_test2 = train_test_split(scaledFeatures, cleanSoccerMatchDf.score2, test_size=0.1, random_state=6)\n",
    "X_tr2, X_val2, y_tr2, y_val2 = train_test_split(X_train2, y_train2, test_size=0.1, random_state=6)"
   ]
  },
  {
   "cell_type": "markdown",
   "metadata": {},
   "source": [
    "**At first, we will see how well some basic regression models(linear regression, decision tree regressor) will fit the data.**"
   ]
  },
  {
   "cell_type": "code",
   "execution_count": 18,
   "metadata": {},
   "outputs": [
    {
     "data": {
      "text/plain": [
       "['../models/linearRegression.joblib']"
      ]
     },
     "execution_count": 18,
     "metadata": {},
     "output_type": "execute_result"
    }
   ],
   "source": [
    "model = LinearRegression()\n",
    "model.fit(X_tr1,y_tr1)\n",
    "dump(model, '../models/linearRegression.joblib')"
   ]
  },
  {
   "cell_type": "code",
   "execution_count": 19,
   "metadata": {},
   "outputs": [],
   "source": [
    "loadedModel = load('../models/linearRegression.joblib')\n",
    "trPredict = loadedModel.predict(X_tr1)\n",
    "score = r2_score(y_tr1, trPredict)"
   ]
  },
  {
   "cell_type": "code",
   "execution_count": 20,
   "metadata": {},
   "outputs": [
    {
     "name": "stdout",
     "output_type": "stream",
     "text": [
      "0.13381274295669165\n"
     ]
    }
   ],
   "source": [
    "print(score)"
   ]
  },
  {
   "cell_type": "code",
   "execution_count": 21,
   "metadata": {},
   "outputs": [
    {
     "name": "stdout",
     "output_type": "stream",
     "text": [
      "0.11155611316785163\n",
      "0.1459314445439467\n"
     ]
    }
   ],
   "source": [
    "valPrediction = loadedModel.predict(X_val1)\n",
    "valScore = r2_score(y_val1, valPrediction)\n",
    "print(valScore)\n",
    "\n",
    "testPrediction = loadedModel.predict(X_test1)\n",
    "testScore = r2_score(y_test1, testPrediction)\n",
    "print(testScore)"
   ]
  },
  {
   "cell_type": "code",
   "execution_count": 22,
   "metadata": {},
   "outputs": [
    {
     "data": {
      "image/png": "[encoded data removed]",
      "text/plain": [
       "<Figure size 432x288 with 1 Axes>"
      ]
     },
     "metadata": {},
     "output_type": "display_data"
    }
   ],
   "source": [
    "true_handle = plt.scatter(y_tr1, y_tr1 , alpha=0.6, color='blue', label='true')\n",
    "fit = np.poly1d(np.polyfit(y_tr1,y_tr1,1))\n",
    "lims = np.linspace(min(y_tr1) - 1, max(y_tr1) + 1)\n",
    "plt.plot(lims, fit(lims), alpha=0.3, color='black')\n",
    "\n",
    "pred_handle = plt.scatter(y_tr1, trPredict, alpha=0.6, color='red', label='predicted')\n",
    "\n",
    "#Legend and show\n",
    "plt.legend(handles=[true_handle,pred_handle], loc='upper left')\n",
    "plt.title(\"true train label vs predicted train label by linear regression\")\n",
    "plt.show()\n"
   ]
  },
  {
   "cell_type": "code",
   "execution_count": 23,
   "metadata": {},
   "outputs": [
    {
     "data": {
      "image/png": "[encoded data removed]",
      "text/plain": [
       "<Figure size 432x288 with 1 Axes>"
      ]
     },
     "metadata": {},
     "output_type": "display_data"
    }
   ],
   "source": [
    "true_handle = plt.scatter(y_val1, y_val1 , alpha=0.6, color='blue', label='true')\n",
    "fit = np.poly1d(np.polyfit(y_val1,y_val1,1))\n",
    "lims = np.linspace(min(y_val1) - 1, max(y_val1) + 1)\n",
    "plt.plot(lims, fit(lims), alpha=0.3, color='black')\n",
    "\n",
    "pred_handle = plt.scatter(y_val1, valPrediction, alpha=0.6, color='red', label='predicted')\n",
    "\n",
    "#Legend and show\n",
    "plt.legend(handles=[true_handle,pred_handle], loc='upper left')\n",
    "plt.title(\"true validation label vs predicted validation label by linear regression\")\n",
    "plt.show()"
   ]
  },
  {
   "cell_type": "code",
   "execution_count": 24,
   "metadata": {},
   "outputs": [
    {
     "name": "stdout",
     "output_type": "stream",
     "text": [
      "0.10294103706785829\n",
      "DecisionTreeRegressor(criterion='mse', max_depth=3, max_features=None,\n",
      "           max_leaf_nodes=None, min_impurity_decrease=0.0,\n",
      "           min_impurity_split=None, min_samples_leaf=1,\n",
      "           min_samples_split=2, min_weight_fraction_leaf=0.0,\n",
      "           presort=False, random_state=6, splitter='best')\n",
      "3\n"
     ]
    },
    {
     "data": {
      "text/plain": [
       "['../models/dtRegressor.joblib']"
      ]
     },
     "execution_count": 24,
     "metadata": {},
     "output_type": "execute_result"
    }
   ],
   "source": [
    "maxScore = -1\n",
    "bestModel = None\n",
    "bestDepth = None\n",
    "for depth in range(1,15):\n",
    "    dtRegModel = DecisionTreeRegressor(random_state=6, max_depth=depth)\n",
    "    dtRegModel.fit(X_tr1,y_tr1)\n",
    "    \n",
    "    dtPredict = dtRegModel.predict(X_val1)\n",
    "    score = r2_score(y_val1, dtPredict)\n",
    "    if(score>maxScore):\n",
    "        bestModel = dtRegModel\n",
    "        bestDepth = depth\n",
    "        maxScore = score\n",
    "print(maxScore)\n",
    "print(bestModel)\n",
    "print(bestDepth)\n",
    "dump(bestModel, '../models/dtRegressor.joblib')"
   ]
  },
  {
   "cell_type": "code",
   "execution_count": 25,
   "metadata": {},
   "outputs": [
    {
     "name": "stdout",
     "output_type": "stream",
     "text": [
      "0.1328465948177997\n"
     ]
    }
   ],
   "source": [
    "loadedModel = load('../models/dtRegressor.joblib')\n",
    "dtTrainPredict = loadedModel.predict(X_tr1)\n",
    "score = r2_score(y_tr1, dtTrainPredict)\n",
    "print(score)"
   ]
  },
  {
   "cell_type": "code",
   "execution_count": 26,
   "metadata": {},
   "outputs": [
    {
     "data": {
      "image/png": "[encoded data removed]",
      "text/plain": [
       "<Figure size 432x288 with 1 Axes>"
      ]
     },
     "metadata": {},
     "output_type": "display_data"
    }
   ],
   "source": [
    "true_handle = plt.scatter(y_tr1, y_tr1 , alpha=0.6, color='blue', label='true')\n",
    "fit = np.poly1d(np.polyfit(y_tr1,y_tr1,1))\n",
    "lims = np.linspace(min(y_tr1) - 1, max(y_tr1) + 1)\n",
    "plt.plot(lims, fit(lims), alpha=0.3, color='black')\n",
    "\n",
    "pred_handle = plt.scatter(y_tr1, dtTrainPredict, alpha=0.6, color='red', label='predicted')\n",
    "\n",
    "#Legend and show\n",
    "plt.legend(handles=[true_handle,pred_handle], loc='upper left')\n",
    "plt.title(\"true train label vs predicted train label by Decision tree regressor\")\n",
    "plt.show()"
   ]
  },
  {
   "cell_type": "code",
   "execution_count": 27,
   "metadata": {},
   "outputs": [
    {
     "name": "stdout",
     "output_type": "stream",
     "text": [
      "0.10294103706785829\n",
      "0.13490721099582514\n"
     ]
    }
   ],
   "source": [
    "dtValPredict = loadedModel.predict(X_val1)\n",
    "score = r2_score(y_val1, dtValPredict)\n",
    "print(score)\n",
    "dtTestPredict = loadedModel.predict(X_test1)\n",
    "scoreTest = r2_score(y_test1, dtTestPredict)\n",
    "print(scoreTest)"
   ]
  },
  {
   "cell_type": "code",
   "execution_count": 28,
   "metadata": {},
   "outputs": [
    {
     "data": {
      "image/png": "[encoded data removed]",
      "text/plain": [
       "<Figure size 432x288 with 1 Axes>"
      ]
     },
     "metadata": {},
     "output_type": "display_data"
    }
   ],
   "source": [
    "true_handle = plt.scatter(y_val1, y_val1 , alpha=0.6, color='blue', label='true')\n",
    "fit = np.poly1d(np.polyfit(y_val1,y_val1,1))\n",
    "lims = np.linspace(min(y_val1) - 1, max(y_val1) + 1)\n",
    "plt.plot(lims, fit(lims), alpha=0.3, color='black')\n",
    "\n",
    "pred_handle = plt.scatter(y_val1, dtValPredict, alpha=0.6, color='red', label='predicted')\n",
    "\n",
    "#Legend and show\n",
    "plt.legend(handles=[true_handle,pred_handle], loc='upper left')\n",
    "plt.title(\"true validation label vs predicted validation label by Decision tree regressor for team 1\")\n",
    "plt.show()"
   ]
  },
  {
   "cell_type": "markdown",
   "metadata": {},
   "source": [
    "**Linear regression model has trouble fitting the training data while decision tree regressor has capability to perfeclty fit training data by if the depth is set to high value. However, when the depth is high, the performance on the validation set degrades (overfitting issue).**\n",
    "\n",
    "**When we chose the best depth, the performance is similar to that of linear regression. However, plot shows that decision tree has compact predicted value whereas the plot of linear regression shows the scattered predicted data.**\n",
    "\n",
    "**We will use random forest regression to mitigate the overfitting problem of random forest and also might increase the performance.**\n",
    "\n",
    "**We will use Grid Search Cross Validation to tune hyperparameters.**"
   ]
  },
  {
   "cell_type": "code",
   "execution_count": 29,
   "metadata": {},
   "outputs": [
    {
     "name": "stdout",
     "output_type": "stream",
     "text": [
      "Fitting 3 folds for each of 144 candidates, totalling 432 fits\n"
     ]
    },
    {
     "name": "stderr",
     "output_type": "stream",
     "text": [
      "[Parallel(n_jobs=1)]: Done 432 out of 432 | elapsed:  4.1min finished\n"
     ]
    },
    {
     "name": "stdout",
     "output_type": "stream",
     "text": [
      "RandomForestRegressor(bootstrap=True, criterion='mse', max_depth=3,\n",
      "           max_features=0.9, max_leaf_nodes=None,\n",
      "           min_impurity_decrease=0.0, min_impurity_split=None,\n",
      "           min_samples_leaf=1, min_samples_split=2,\n",
      "           min_weight_fraction_leaf=0.0, n_estimators=20, n_jobs=1,\n",
      "           oob_score=False, random_state=6, verbose=0, warm_start=False)\n"
     ]
    }
   ],
   "source": [
    "params = {\n",
    "    'max_depth':np.arange(3,15),\n",
    "    'max_features':[0.7, 0.8, 0.9, 1.0],\n",
    "    'n_estimators':[10, 15, 20]\n",
    "}\n",
    "\n",
    "rfRegressor = RandomForestRegressor(random_state=6)\n",
    "gridSearch = GridSearchCV(rfRegressor, params,verbose=1)\n",
    "gridSearch.fit(X_train1, y_train1)\n",
    "print(gridSearch.best_estimator_)"
   ]
  },
  {
   "cell_type": "code",
   "execution_count": 30,
   "metadata": {},
   "outputs": [
    {
     "name": "stdout",
     "output_type": "stream",
     "text": [
      "0.13543760673780025\n"
     ]
    }
   ],
   "source": [
    "bestRegressor1 = gridSearch.best_estimator_\n",
    "dump(bestRegressor1, '../models/rfRegressor1.joblib')\n",
    "\n",
    "loadedModelTeam1 = load('../models/rfRegressor1.joblib')\n",
    "rfTrainPredict = loadedModelTeam1.predict(X_train1)\n",
    "score = r2_score(y_train1, rfTrainPredict)\n",
    "print(score)\n",
    "  "
   ]
  },
  {
   "cell_type": "code",
   "execution_count": 31,
   "metadata": {},
   "outputs": [
    {
     "data": {
      "image/png": "[encoded data removed]",
      "text/plain": [
       "<Figure size 432x288 with 1 Axes>"
      ]
     },
     "metadata": {},
     "output_type": "display_data"
    }
   ],
   "source": [
    "true_handle = plt.scatter(y_train1, y_train1 , alpha=0.6, color='blue', label='true')\n",
    "fit = np.poly1d(np.polyfit(y_train1,y_train1,1))\n",
    "lims = np.linspace(min(y_train1) - 1, max(y_train1) + 1)\n",
    "plt.plot(lims, fit(lims), alpha=0.3, color='black')\n",
    "\n",
    "pred_handle = plt.scatter(y_train1, rfTrainPredict, alpha=0.6, color='red', label='predicted')\n",
    "\n",
    "#Legend and show\n",
    "plt.legend(handles=[true_handle,pred_handle], loc='upper left')\n",
    "plt.title(\"true train label vs predicted train label by Random Forest regressor for team1\")\n",
    "plt.show()"
   ]
  },
  {
   "cell_type": "code",
   "execution_count": 32,
   "metadata": {},
   "outputs": [
    {
     "name": "stdout",
     "output_type": "stream",
     "text": [
      "0.13883421844366073\n"
     ]
    }
   ],
   "source": [
    "rfTestPredict = loadedModelTeam1.predict(X_test1)\n",
    "score = r2_score(y_test1, rfTestPredict)\n",
    "print(score)\n",
    "  "
   ]
  },
  {
   "cell_type": "code",
   "execution_count": 33,
   "metadata": {},
   "outputs": [
    {
     "name": "stdout",
     "output_type": "stream",
     "text": [
      "Fitting 3 folds for each of 144 candidates, totalling 432 fits\n"
     ]
    },
    {
     "name": "stderr",
     "output_type": "stream",
     "text": [
      "[Parallel(n_jobs=1)]: Done 432 out of 432 | elapsed:  3.8min finished\n"
     ]
    },
    {
     "name": "stdout",
     "output_type": "stream",
     "text": [
      "RandomForestRegressor(bootstrap=True, criterion='mse', max_depth=3,\n",
      "           max_features=0.8, max_leaf_nodes=None,\n",
      "           min_impurity_decrease=0.0, min_impurity_split=None,\n",
      "           min_samples_leaf=1, min_samples_split=2,\n",
      "           min_weight_fraction_leaf=0.0, n_estimators=15, n_jobs=1,\n",
      "           oob_score=False, random_state=6, verbose=0, warm_start=False)\n"
     ]
    }
   ],
   "source": [
    "gridSearch2 = GridSearchCV(rfRegressor, params,verbose=1)\n",
    "gridSearch2.fit(X_train2, y_train2)\n",
    "print(gridSearch2.best_estimator_)"
   ]
  },
  {
   "cell_type": "code",
   "execution_count": 34,
   "metadata": {},
   "outputs": [
    {
     "name": "stdout",
     "output_type": "stream",
     "text": [
      "0.10359064848477484\n"
     ]
    }
   ],
   "source": [
    "bestRegressor2 = gridSearch2.best_estimator_\n",
    "dump(bestRegressor2, '../models/rfRegressor2.joblib')\n",
    "\n",
    "loadedModelTeam2 = load('../models/rfRegressor2.joblib')\n",
    "rfTrainPredict2 = loadedModelTeam2.predict(X_train2)\n",
    "score = r2_score(y_train2, rfTrainPredict2)\n",
    "print(score)"
   ]
  },
  {
   "cell_type": "code",
   "execution_count": 35,
   "metadata": {},
   "outputs": [
    {
     "data": {
      "image/png": "[encoded data removed]",
      "text/plain": [
       "<Figure size 432x288 with 1 Axes>"
      ]
     },
     "metadata": {},
     "output_type": "display_data"
    }
   ],
   "source": [
    "true_handle = plt.scatter(y_train2, y_train2 , alpha=0.6, color='blue', label='true')\n",
    "fit = np.poly1d(np.polyfit(y_train2,y_train2,1))\n",
    "lims = np.linspace(min(y_train2) - 1, max(y_train2) + 1)\n",
    "plt.plot(lims, fit(lims), alpha=0.3, color='black')\n",
    "\n",
    "pred_handle = plt.scatter(y_train2, rfTrainPredict2, alpha=0.6, color='red', label='predicted')\n",
    "\n",
    "#Legend and show\n",
    "plt.legend(handles=[true_handle,pred_handle], loc='upper left')\n",
    "plt.title(\"true train label vs predicted train label by Random Forest regressor for team2\")\n",
    "plt.show()"
   ]
  },
  {
   "cell_type": "code",
   "execution_count": 36,
   "metadata": {},
   "outputs": [
    {
     "name": "stdout",
     "output_type": "stream",
     "text": [
      "0.10356180649748292\n"
     ]
    }
   ],
   "source": [
    "rfTestPredict2 = loadedModelTeam2.predict(X_test2)\n",
    "score = r2_score(y_test2, rfTestPredict2)\n",
    "print(score)"
   ]
  },
  {
   "cell_type": "code",
   "execution_count": 37,
   "metadata": {},
   "outputs": [
    {
     "data": {
      "image/png": "[encoded data removed]",
      "text/plain": [
       "<Figure size 432x288 with 1 Axes>"
      ]
     },
     "metadata": {},
     "output_type": "display_data"
    }
   ],
   "source": [
    "true_handle = plt.scatter(y_test2, y_test2 , alpha=0.6, color='blue', label='true')\n",
    "fit = np.poly1d(np.polyfit(y_test2,y_test2,1))\n",
    "lims = np.linspace(min(y_test2) - 1, max(y_test2) + 1)\n",
    "plt.plot(lims, fit(lims), alpha=0.3, color='black')\n",
    "\n",
    "pred_handle = plt.scatter(y_test2, rfTestPredict2, alpha=0.6, color='red', label='predicted')\n",
    "\n",
    "#Legend and show\n",
    "plt.legend(handles=[true_handle,pred_handle], loc='upper left')\n",
    "plt.title(\"true test label vs predicted test label by Random Forest regressor for team2\")\n",
    "plt.show()"
   ]
  },
  {
   "cell_type": "code",
   "execution_count": 38,
   "metadata": {},
   "outputs": [
    {
     "name": "stdout",
     "output_type": "stream",
     "text": [
      "[0.5222607  0.34990199 0.06812683 0.03411562 0.01602238 0.003569\n",
      " 0.00271316 0.00224396 0.00104634 0.         0.         0.\n",
      " 0.         0.         0.         0.         0.         0.\n",
      " 0.         0.         0.         0.         0.         0.\n",
      " 0.         0.         0.        ]\n"
     ]
    },
    {
     "data": {
      "text/plain": [
       "array(['proj_score1', 'prob1', 'probtie', 'prob2', 'spi1', 'proj_score2',\n",
       "       'spi2', 'importance1', 'importance2', 'Spanish Primera Division',\n",
       "       'Portuguese Liga', 'Mexican Primera Division Torneo Clausura',\n",
       "       'Mexican Primera Division Torneo Apertura', 'Major League Soccer',\n",
       "       'Italy Serie B', 'Italy Serie A', 'German Bundesliga',\n",
       "       'Chinese Super League', 'French Ligue 1',\n",
       "       'English League Championship', 'UEFA Champions League',\n",
       "       'Brasileiro Série A', 'Barclays Premier League',\n",
       "       'Australian A-League', 'Argentina Primera Division',\n",
       "       'German 2. Bundesliga', 'UEFA Europa League'], dtype=object)"
      ]
     },
     "execution_count": 38,
     "metadata": {},
     "output_type": "execute_result"
    }
   ],
   "source": [
    "sortedIndTeam1 = np.argsort(-1*loadedModelTeam1.feature_importances_)\n",
    "print(-np.sort(-1*loadedModelTeam1.feature_importances_))\n",
    "featuresDf.columns.values[sortedIndTeam1]"
   ]
  },
  {
   "cell_type": "code",
   "execution_count": 39,
   "metadata": {},
   "outputs": [
    {
     "name": "stdout",
     "output_type": "stream",
     "text": [
      "[0.66402641 0.17374908 0.08813745 0.04976484 0.01257555 0.00439182\n",
      " 0.00285261 0.00224643 0.00156091 0.00069491 0.         0.\n",
      " 0.         0.         0.         0.         0.         0.\n",
      " 0.         0.         0.         0.         0.         0.\n",
      " 0.         0.         0.        ]\n"
     ]
    },
    {
     "data": {
      "text/plain": [
       "array(['proj_score2', 'prob2', 'prob1', 'probtie', 'spi2', 'importance1',\n",
       "       'spi1', 'proj_score1', 'importance2', 'German 2. Bundesliga',\n",
       "       'Spanish Primera Division', 'Portuguese Liga',\n",
       "       'Mexican Primera Division Torneo Clausura',\n",
       "       'Mexican Primera Division Torneo Apertura', 'Major League Soccer',\n",
       "       'Italy Serie B', 'Italy Serie A', 'Chinese Super League',\n",
       "       'French Ligue 1', 'English League Championship',\n",
       "       'UEFA Champions League', 'Brasileiro Série A',\n",
       "       'Barclays Premier League', 'Australian A-League',\n",
       "       'Argentina Primera Division', 'German Bundesliga',\n",
       "       'UEFA Europa League'], dtype=object)"
      ]
     },
     "execution_count": 39,
     "metadata": {},
     "output_type": "execute_result"
    }
   ],
   "source": [
    "sortedIndTeam2 = np.argsort(-1*loadedModelTeam2.feature_importances_)\n",
    "print(-np.sort(-1*loadedModelTeam2.feature_importances_))\n",
    "featuresDf.columns.values[sortedIndTeam2]"
   ]
  },
  {
   "cell_type": "markdown",
   "metadata": {},
   "source": [
    "**It can be seen that for team 1, proj_score1 has high weight in comparison to other features. Similarly, for team 2, proj_score2 has high weight. It can be concluded that projected score has high correlation with actual score but still, the actual score is difficult to generalize using the provided features by these regression models.**"
   ]
  },
  {
   "cell_type": "code",
   "execution_count": null,
   "metadata": {},
   "outputs": [],
   "source": []
  }
 ],
 "metadata": {
  "kernelspec": {
   "display_name": "Python 3",
   "language": "python",
   "name": "python3"
  },
  "language_info": {
   "codemirror_mode": {
    "name": "ipython",
    "version": 3
   },
   "file_extension": ".py",
   "mimetype": "text/x-python",
   "name": "python",
   "nbconvert_exporter": "python",
   "pygments_lexer": "ipython3",
   "version": "3.6.5"
  }
 },
 "nbformat": 4,
 "nbformat_minor": 2
}
